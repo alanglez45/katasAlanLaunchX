{
 "cells": [
  {
   "cell_type": "markdown",
   "metadata": {},
   "source": [
    "### Ejercicio 1: Transformar cadenas\n"
   ]
  },
  {
   "cell_type": "code",
   "execution_count": 22,
   "metadata": {},
   "outputs": [
    {
     "name": "stdout",
     "output_type": "stream",
     "text": [
      "['Interesting facts about the Moon', \"The Moon is Earth's only satellite\", 'There are several interesting facts about the Moon and how it affects life here on Earth', '\\nOn average, the Moon moves 4cm away from the Earth every year', 'This yearly drift is not significant enough to cause immediate effects on Earth', 'The highest daylight temperature of the Moon is 127 C.']\n",
      "\n",
      "\n",
      "On average, the Moon moves 4cm away from the Earth every year\n",
      "The highest daylight temperature of the Moon is 127 Celsius.\n"
     ]
    }
   ],
   "source": [
    "text = \"\"\"Interesting facts about the Moon. The Moon is Earth's only satellite. There are several interesting facts about the Moon and how it affects life here on Earth. \n",
    "On average, the Moon moves 4cm away from the Earth every year. This yearly drift is not significant enough to cause immediate effects on Earth. The highest daylight temperature of the Moon is 127 C.\"\"\"\n",
    "#print(text)\n",
    "\n",
    "oraciones = text.split('. ')\n",
    "print(oraciones)\n",
    "print()\n",
    "\n",
    "claves = ['average','temperature','distance']\n",
    "\n",
    "for oracion in oraciones:\n",
    "    for clave in claves:\n",
    "        if oracion.find(clave) != -1:\n",
    "            print(oracion.replace('C', 'Celsius'))\n"
   ]
  },
  {
   "cell_type": "markdown",
   "metadata": {},
   "source": [
    "### Ejercicio 2: Formateando Cadenas"
   ]
  },
  {
   "cell_type": "code",
   "execution_count": 67,
   "metadata": {},
   "outputs": [
    {
     "name": "stdout",
     "output_type": "stream",
     "text": [
      " Datos de gravedad: Moon \n",
      " ---------------------------------------------------\n",
      "Nombre del planeta: Earth\n",
      "Gravedad en Moon: 1.6199999999999999 m/s2\n",
      "\n",
      " Datos de gravedad: Moon \n",
      " ---------------------------------------------------\n",
      "Nombre del planeta: Earth\n",
      "Gravedad en Moon: 1.6199999999999999 m/s2\n",
      "\n",
      "\n",
      "Datos de gravedad: Ganímedes\n",
      "---------------------------------------------------\n",
      "Nombre del planeta: Marte \n",
      "Gravedad en Ganímedes: 1.4300000000000002 m/s2\n",
      "\n"
     ]
    }
   ],
   "source": [
    "# Datos con los que vas a trabajar\n",
    "name = \"Moon\"\n",
    "gravity = 0.00162 # in kms\n",
    "planet = \"Earth\"\n",
    "\n",
    "# Creamos el título\n",
    "titulo = f'Datos de gravedad: {name}'\n",
    "\n",
    "guiones = '-'\n",
    "for x in range(50):\n",
    "    guiones += '-'\n",
    "\n",
    "# Creamos la plantilla\n",
    "plantilla = f\"\"\"{guiones}\n",
    "Nombre del planeta: {planet}\n",
    "Gravedad en {name}: {gravity*1000} m/s2\n",
    "\"\"\"\n",
    "# Unión de ambas cadenas\n",
    "unionCadenas = f\"\"\" {titulo} \\n {plantilla}\"\"\"\n",
    "print(unionCadenas)\n",
    "\n",
    "# Datos muestra:\n",
    "planet = 'Marte '\n",
    "gravity  = 0.00143\n",
    "name = 'Ganímedes'\n",
    "\n",
    "# Comprueba la plantilla\n",
    "print(unionCadenas)\n",
    "\n",
    "# Nueva plantilla\n",
    "nuevaPlantilla = \"\"\"\n",
    "Datos de gravedad: {name}\n",
    "{guiones}\n",
    "Nombre del planeta: {planet}\n",
    "Gravedad en {name}: {gravity} m/s2\n",
    "\"\"\"\n",
    "# Pista: print(nueva_plantilla.format(variables))\n",
    "print(nuevaPlantilla.format(name=name, guiones=guiones, planet=planet,gravity=gravity*1000))\n"
   ]
  }
 ],
 "metadata": {
  "interpreter": {
   "hash": "0dbb22110c720ba9b2c4bbe183f8b8c42513f8a251fd07769059b4a9c1d7c85d"
  },
  "kernelspec": {
   "display_name": "Python 3.9.4 64-bit",
   "language": "python",
   "name": "python3"
  },
  "language_info": {
   "codemirror_mode": {
    "name": "ipython",
    "version": 3
   },
   "file_extension": ".py",
   "mimetype": "text/x-python",
   "name": "python",
   "nbconvert_exporter": "python",
   "pygments_lexer": "ipython3",
   "version": "3.9.4"
  },
  "orig_nbformat": 4
 },
 "nbformat": 4,
 "nbformat_minor": 2
}
