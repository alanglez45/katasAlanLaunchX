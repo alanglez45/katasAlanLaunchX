{
 "cells": [
  {
   "cell_type": "markdown",
   "metadata": {},
   "source": [
    "### Ejercicio1 - Utilizar operadores aritméticos\n",
    "Operadores aritméticos en Python\n",
    "\n"
   ]
  },
  {
   "cell_type": "code",
   "execution_count": 36,
   "metadata": {},
   "outputs": [
    {
     "name": "stdout",
     "output_type": "stream",
     "text": [
      "628949330 km\n",
      "390894549.0 mi\n"
     ]
    }
   ],
   "source": [
    "# Crear variables para almacenar las dos distancias\n",
    "tierra = 149597870\n",
    "jupiter = 778547200\n",
    "\n",
    "# Calcular la distancia entre planetas\n",
    "distanciaKm = abs(tierra - jupiter)\n",
    "\n",
    "# Convertir la distancia del kilómetro en millas \n",
    "distanciaMi = distancia // 1.609\n",
    "\n",
    "# Resultado\n",
    "print(distanciaKm, 'km')\n",
    "print(distanciaMi, 'mi')\n"
   ]
  },
  {
   "cell_type": "markdown",
   "metadata": {},
   "source": [
    "### Ejercicio 2: convierte cadenas en números y usa valores absolutos\n",
    "Crear una aplicación para trabajar con números y entrada de usuario"
   ]
  },
  {
   "cell_type": "code",
   "execution_count": 42,
   "metadata": {},
   "outputs": [
    {
     "name": "stdout",
     "output_type": "stream",
     "text": [
      "2 km\n",
      "1.0 mi\n"
     ]
    }
   ],
   "source": [
    "# Almacenar las entradas del usuario\n",
    "primerPlaneta = input(\"Ingrese la distancia del primer planeta: \")\n",
    "segundoPlaneta = input(\"Ingrese la distancia del segundo planeta: \")\n",
    "\n",
    "# Convierte las cadenas de ambos planetas a números enteros\n",
    "primerPlaneta = int(primerPlaneta)\n",
    "segundoPlaneta = int(segundoPlaneta)\n",
    "\n",
    "# Realizar el cálculo y determinar el valor absoluto\n",
    "distanciaKm = abs(primerPlaneta -segundoPlaneta)\n",
    "\n",
    "# Convertir de KM a Millas\n",
    "distanciaMi = distanciaKm // 1.609\n",
    "\n",
    "# Resultado\n",
    "print(distanciaKm, 'km')\n",
    "print(distanciaMi, 'mi')\n",
    "\n"
   ]
  }
 ],
 "metadata": {
  "interpreter": {
   "hash": "0dbb22110c720ba9b2c4bbe183f8b8c42513f8a251fd07769059b4a9c1d7c85d"
  },
  "kernelspec": {
   "display_name": "Python 3.9.4 64-bit",
   "language": "python",
   "name": "python3"
  },
  "language_info": {
   "codemirror_mode": {
    "name": "ipython",
    "version": 3
   },
   "file_extension": ".py",
   "mimetype": "text/x-python",
   "name": "python",
   "nbconvert_exporter": "python",
   "pygments_lexer": "ipython3",
   "version": "3.9.4"
  },
  "orig_nbformat": 4
 },
 "nbformat": 4,
 "nbformat_minor": 2
}
