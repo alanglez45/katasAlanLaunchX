{
 "cells": [
  {
   "cell_type": "markdown",
   "metadata": {},
   "source": [
    "### Ejercicio 1: Creación de un bucle \"while\"\n",
    "Ejercicio 1: Uso de ciclos while en Python"
   ]
  },
  {
   "cell_type": "code",
   "execution_count": 1,
   "metadata": {},
   "outputs": [],
   "source": [
    "# Declara dos variables\n",
    "new_planet = ''\n",
    "planets = []\n",
    "\n",
    "# Escribe el ciclo while solicitado\n",
    "while new_planet != 'done':\n",
    "    if new_planet != '':\n",
    "        planets.append(new_planet)\n",
    "    \n",
    "    new_planet = input('Ingrese un nuevo planeta o escriba done si ha terminado: ')\n",
    "\n"
   ]
  },
  {
   "cell_type": "markdown",
   "metadata": {},
   "source": [
    "### Ejercicio 2: Creación de un ciclo \"for\"\n",
    "Ejercicio: - Ciclo para una lista"
   ]
  },
  {
   "cell_type": "code",
   "execution_count": 2,
   "metadata": {},
   "outputs": [
    {
     "name": "stdout",
     "output_type": "stream",
     "text": [
      "venus\n",
      "marte\n",
      "tierra\n"
     ]
    }
   ],
   "source": [
    "# Escribe tu ciclo for para iterar en una lista de planetas\n",
    "for planet in planets:\n",
    "    print(planet)"
   ]
  }
 ],
 "metadata": {
  "interpreter": {
   "hash": "0dbb22110c720ba9b2c4bbe183f8b8c42513f8a251fd07769059b4a9c1d7c85d"
  },
  "kernelspec": {
   "display_name": "Python 3.9.4 64-bit",
   "language": "python",
   "name": "python3"
  },
  "language_info": {
   "codemirror_mode": {
    "name": "ipython",
    "version": 3
   },
   "file_extension": ".py",
   "mimetype": "text/x-python",
   "name": "python",
   "nbconvert_exporter": "python",
   "pygments_lexer": "ipython3",
   "version": "3.9.4"
  },
  "orig_nbformat": 4
 },
 "nbformat": 4,
 "nbformat_minor": 2
}
