{
 "cells": [
  {
   "cell_type": "markdown",
   "metadata": {},
   "source": [
    "### Ejercicio: Uso de funciones en Python\n",
    "Ejercicio 1: Trabajar con argumentos en funciones"
   ]
  },
  {
   "cell_type": "code",
   "execution_count": 9,
   "metadata": {},
   "outputs": [
    {
     "name": "stdout",
     "output_type": "stream",
     "text": [
      "Reporte de Combustible\n",
      "    Promedio: 2.0%\n",
      "    Tanque Principal: 1%\n",
      "    Tanque Secundario: 2%\n",
      "    Tanque auxiliar: 3%\n",
      "    \n",
      "Promedio:  26\n",
      "Reporte de Combustible\n",
      "    Promedio: 15%\n",
      "    Tanque Principal: 10%\n",
      "    Tanque Secundario: 15%\n",
      "    Tanque auxiliar: 20%\n",
      "    \n"
     ]
    }
   ],
   "source": [
    "# Función para leer 3 tanques de combustible y muestre el promedio\n",
    "\n",
    "def reporteTanques( tanque1, tanque2, tanque3):\n",
    "    promedio = (tanque1 + tanque2 + tanque3) / 3\n",
    "    reporte = f\"\"\"Reporte de Combustible\n",
    "    Promedio: {promedio}%\n",
    "    Tanque Principal: {tanque1}%\n",
    "    Tanque Secundario: {tanque2}%\n",
    "    Tanque auxiliar: {tanque3}%\n",
    "    \"\"\"\n",
    "    return reporte\n",
    "\n",
    "# Llamamos a la función que genera el reporte print(funcion(tanque1, tanque2, tanque3))\n",
    "print(reporteTanques(1,2,3))\n",
    "\n",
    "# Función promedio \n",
    "def calcularPromedio(tanques):\n",
    "    sumatoria = sum(tanques)\n",
    "    numeroTanques  = len(tanques)\n",
    "    promedio = sumatoria // numeroTanques\n",
    "    return promedio\n",
    "\n",
    "tanques = [10, 20, 50]\n",
    "\n",
    "print(\"Promedio: \",calcularPromedio(tanques))\n",
    "\n",
    "\n",
    "# Actualiza la función\n",
    "def reporteTanques( tanque1, tanque2, tanque3):\n",
    "    promedio = calcularPromedio([tanque1, tanque2, tanque3])\n",
    "    reporte = f\"\"\"Reporte de Combustible\n",
    "    Promedio: {promedio}%\n",
    "    Tanque Principal: {tanque1}%\n",
    "    Tanque Secundario: {tanque2}%\n",
    "    Tanque auxiliar: {tanque3}%\n",
    "    \"\"\"\n",
    "    return reporte\n",
    "\n",
    "print(reporteTanques(10, 15, 20))\n"
   ]
  },
  {
   "cell_type": "markdown",
   "metadata": {},
   "source": [
    "### Ejercicio 2: Trabajo con argumentos de palabra clave\n",
    "Ejercicio : Trabajar con argumentos de palabras clave en funciones"
   ]
  },
  {
   "cell_type": "code",
   "execution_count": 12,
   "metadata": {},
   "outputs": [
    {
     "name": "stdout",
     "output_type": "stream",
     "text": [
      "Informe de la misión:\n",
      "    Destino: Luna\n",
      "    Tiempo total de vuelo: 70 minutos\n",
      "    Combutible total: 350 litros\n",
      "    \n"
     ]
    }
   ],
   "source": [
    "# Función con un informe preciso de la misión. Considera hora de prelanzamiento, tiempo de vuelo, destino, tanque externo y tanque interno\n",
    "\n",
    "def informeMision(prelanzamiento, tiempoVuelo, destino, tanqueExterno, tanqueInterno):\n",
    "    informe = f\"\"\"Informe de la misión:\n",
    "    Destino: {destino}\n",
    "    Tiempo total de vuelo: {prelanzamiento + tiempoVuelo} minutos\n",
    "    Combutible total: {tanqueExterno + tanqueInterno} litros\n",
    "    \"\"\"\n",
    "    return informe\n",
    "\n",
    "print(informeMision(20, 50, 'Luna', 150, 200))\n",
    "\n"
   ]
  },
  {
   "cell_type": "code",
   "execution_count": 14,
   "metadata": {},
   "outputs": [
    {
     "name": "stdout",
     "output_type": "stream",
     "text": [
      "Informe de la misión:\n",
      "    Destino: Luna\n",
      "    Tiempo total de vuelo: 120 minutos\n",
      "    Combutible total: 2500 litros\n",
      "    \n"
     ]
    }
   ],
   "source": [
    "# Escribe tu nueva función de reporte considerando lo anterior\n",
    "def informeMision(destino, *tiempo, **combustible):\n",
    "    informe = f\"\"\"Informe de la misión:\n",
    "    Destino: {destino}\n",
    "    Tiempo total de vuelo: {sum(tiempo)} minutos\n",
    "    Combutible total: {sum(combustible.values())} litros\n",
    "    \"\"\"\n",
    "    return informe\n",
    "\n",
    "print(informeMision('Luna', 40, 20, 60, interno=1500, externo=1000))"
   ]
  },
  {
   "cell_type": "code",
   "execution_count": 19,
   "metadata": {},
   "outputs": [
    {
     "name": "stdout",
     "output_type": "stream",
     "text": [
      "Informe de la misión:\n",
      "    Destino: Luna\n",
      "    Tiempo total de vuelo: 120 minutos\n",
      "    Combutible total: 2500 litros\n",
      "    tanque interno: 1500 litros \n",
      "tanque externo: 1000 litros \n",
      "\n"
     ]
    }
   ],
   "source": [
    "# Escribe tu nueva función\n",
    "def informeMision(destino, *tiempo, **combustible):\n",
    "    informe = f\"\"\"Informe de la misión:\n",
    "    Destino: {destino}\n",
    "    Tiempo total de vuelo: {sum(tiempo)} minutos\n",
    "    Combutible total: {sum(combustible.values())} litros\n",
    "    \"\"\"\n",
    "    for tanque, litros in combustible.items():\n",
    "        informe = informe + f\"tanque {tanque}: {litros} litros \\n\"\n",
    "    \n",
    "    return informe\n",
    "\n",
    "print(informeMision('Luna', 40, 20, 60, interno = 1500, externo = 1000))"
   ]
  }
 ],
 "metadata": {
  "interpreter": {
   "hash": "0dbb22110c720ba9b2c4bbe183f8b8c42513f8a251fd07769059b4a9c1d7c85d"
  },
  "kernelspec": {
   "display_name": "Python 3.9.4 64-bit",
   "language": "python",
   "name": "python3"
  },
  "language_info": {
   "codemirror_mode": {
    "name": "ipython",
    "version": 3
   },
   "file_extension": ".py",
   "mimetype": "text/x-python",
   "name": "python",
   "nbconvert_exporter": "python",
   "pygments_lexer": "ipython3",
   "version": "3.9.4"
  },
  "orig_nbformat": 4
 },
 "nbformat": 4,
 "nbformat_minor": 2
}
